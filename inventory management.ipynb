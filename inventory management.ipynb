{
 "cells": [
  {
   "cell_type": "code",
   "execution_count": 3,
   "id": "776a821a",
   "metadata": {},
   "outputs": [],
   "source": [
    "fd=open('inventory.txt','w')\n",
    "fd.close()"
   ]
  },
  {
   "cell_type": "markdown",
   "id": "7bbc8b93",
   "metadata": {},
   "source": [
    "Product Details\n",
    "1.Product ID \n",
    "2.Name of Product\n",
    "3.Price of Product\n",
    "4.Quantity"
   ]
  },
  {
   "cell_type": "code",
   "execution_count": 4,
   "id": "7c3d6034",
   "metadata": {},
   "outputs": [],
   "source": [
    "fd=open('inventory.txt','r')\n",
    "products=fd.read().split('\\n')\n",
    "fd.close()"
   ]
  },
  {
   "cell_type": "code",
   "execution_count": 15,
   "id": "e9216c3c",
   "metadata": {},
   "outputs": [
    {
     "name": "stdout",
     "output_type": "stream",
     "text": [
      "1,5 Star,5,100\n",
      "2,Milky Bar,5,100\n",
      "3,Cake,300,5\n",
      "4,Candy,1,200\n",
      "-----------------------------------\n",
      "enter product id3\n",
      "enter quantity2\n",
      "['3', 'Cake', '300', '5']\n",
      "-----------------------------------\n",
      "bill: 600\n",
      "['3', 'Cake', '300', '3']\n",
      "----------------------------------\n",
      "1,5 Star,5,100\n",
      "\n",
      "2,Milky Bar,5,100\n",
      "\n",
      "3,Cake,300,3\n",
      "\n",
      "4,Candy,1,200\n",
      "\n"
     ]
    }
   ],
   "source": [
    "for product in products:\n",
    "    print(product)\n",
    "print(\"-----------------------------------\")    \n",
    "input_id=input(\"enter product id\")\n",
    "ip_quantity=input(\"enter quantity\")\n",
    "\n",
    "updated_product_1st=[]\n",
    "\n",
    "for product in products:\n",
    "    prod_details=product.split(',')\n",
    "    if prod_details[0]==input_id: \n",
    "        print(prod_details)\n",
    "        print(\"-----------------------------------\")\n",
    "        print(\"bill:\",int(prod_details[2])*int(ip_quantity))\n",
    "        prod_details[3]=str(int(prod_details[3])-int(ip_quantity))\n",
    "        print(prod_details)\n",
    "    updated_product_1st.append(prod_details)\n",
    "    \n",
    "print(\"----------------------------------\")\n",
    "fd=open('inventory.txt','w')\n",
    "for i in updated_product_1st:\n",
    "    prod=i[0]+\",\"+i[1]+\",\"+i[2]+\",\"+i[3]+'\\n'\n",
    "    print(prod)\n",
    "    fd.write(prod)\n",
    "fd.close()\n",
    "    "
   ]
  },
  {
   "cell_type": "code",
   "execution_count": null,
   "id": "96a0977a",
   "metadata": {},
   "outputs": [],
   "source": []
  },
  {
   "cell_type": "code",
   "execution_count": null,
   "id": "ce7955ec",
   "metadata": {},
   "outputs": [],
   "source": []
  },
  {
   "cell_type": "code",
   "execution_count": null,
   "id": "c0a677dc",
   "metadata": {},
   "outputs": [],
   "source": []
  },
  {
   "cell_type": "code",
   "execution_count": null,
   "id": "fbf21ba3",
   "metadata": {},
   "outputs": [],
   "source": []
  },
  {
   "cell_type": "code",
   "execution_count": null,
   "id": "948f5682",
   "metadata": {},
   "outputs": [],
   "source": []
  },
  {
   "cell_type": "code",
   "execution_count": null,
   "id": "f72486e4",
   "metadata": {},
   "outputs": [],
   "source": []
  },
  {
   "cell_type": "code",
   "execution_count": null,
   "id": "285e22f0",
   "metadata": {},
   "outputs": [],
   "source": []
  },
  {
   "cell_type": "code",
   "execution_count": null,
   "id": "76f40414",
   "metadata": {},
   "outputs": [],
   "source": []
  }
 ],
 "metadata": {
  "kernelspec": {
   "display_name": "Python 3 (ipykernel)",
   "language": "python",
   "name": "python3"
  },
  "language_info": {
   "codemirror_mode": {
    "name": "ipython",
    "version": 3
   },
   "file_extension": ".py",
   "mimetype": "text/x-python",
   "name": "python",
   "nbconvert_exporter": "python",
   "pygments_lexer": "ipython3",
   "version": "3.11.3"
  }
 },
 "nbformat": 4,
 "nbformat_minor": 5
}
