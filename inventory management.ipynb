{
 "cells": [
  {
   "cell_type": "code",
   "execution_count": 0,
   "metadata": {
    "application/vnd.databricks.v1+cell": {
     "cellMetadata": {},
     "inputWidgets": {},
     "nuid": "b063553f-de72-4779-9ce8-50779fba4900",
     "showTitle": false,
     "title": ""
    }
   },
   "outputs": [],
   "source": [
    "fd=open('inventory.txt','w')\n",
    "fd.close()"
   ]
  },
  {
   "cell_type": "markdown",
   "metadata": {
    "application/vnd.databricks.v1+cell": {
     "cellMetadata": {},
     "inputWidgets": {},
     "nuid": "78d69b11-b897-4b3d-8541-23edc97e9d55",
     "showTitle": false,
     "title": ""
    }
   },
   "source": [
    "Product Details\n",
    "1.Product ID \n",
    "2.Name of Product\n",
    "3.Price of Product\n",
    "4.Quantity"
   ]
  },
  {
   "cell_type": "code",
   "execution_count": 0,
   "metadata": {
    "application/vnd.databricks.v1+cell": {
     "cellMetadata": {},
     "inputWidgets": {},
     "nuid": "dd13dff6-d254-4f77-809c-5b64ab1e4ed9",
     "showTitle": false,
     "title": ""
    }
   },
   "outputs": [],
   "source": [
    "fd=open('inventory.txt','r')\n",
    "products=fd.read().split('\\n')\n",
    "fd.close()"
   ]
  },
  {
   "cell_type": "code",
   "execution_count": 0,
   "metadata": {
    "application/vnd.databricks.v1+cell": {
     "cellMetadata": {},
     "inputWidgets": {},
     "nuid": "ec6973a0-db15-4b79-a9ec-70c119022d90",
     "showTitle": false,
     "title": ""
    }
   },
   "outputs": [],
   "source": [
    "for product in products:\n",
    "    print(product)\n",
    "print(\"-----------------------------------\")    \n",
    "input_id=input(\"enter product id\")\n",
    "ip_quantity=input(\"enter quantity\")\n",
    "\n",
    "updated_product_1st=[]\n",
    "\n",
    "for product in products:\n",
    "    prod_details=product.split(',')\n",
    "    if prod_details[0]==input_id: \n",
    "        print(prod_details)\n",
    "        print(\"-----------------------------------\")\n",
    "        print(\"bill:\",int(prod_details[2])*int(ip_quantity))\n",
    "        prod_details[3]=str(int(prod_details[3])-int(ip_quantity))\n",
    "        print(prod_details)\n",
    "    updated_product_1st.append(prod_details)\n",
    "    \n",
    "print(\"----------------------------------\")\n",
    "fd=open('inventory.txt','w')\n",
    "for i in updated_product_1st:\n",
    "    prod=i[0]+\",\"+i[1]+\",\"+i[2]+\",\"+i[3]+'\\n'\n",
    "    print(prod)\n",
    "    fd.write(prod)\n",
    "fd.close()\n",
    "    "
   ]
  },
  {
   "cell_type": "code",
   "execution_count": 0,
   "metadata": {
    "application/vnd.databricks.v1+cell": {
     "cellMetadata": {},
     "inputWidgets": {},
     "nuid": "971883b5-b052-44a8-80ec-933f537b4e9d",
     "showTitle": false,
     "title": ""
    }
   },
   "outputs": [],
   "source": []
  },
  {
   "cell_type": "code",
   "execution_count": 0,
   "metadata": {
    "application/vnd.databricks.v1+cell": {
     "cellMetadata": {},
     "inputWidgets": {},
     "nuid": "838b5074-b7e4-47d0-8e65-5044b3d490f2",
     "showTitle": false,
     "title": ""
    }
   },
   "outputs": [],
   "source": []
  },
  {
   "cell_type": "code",
   "execution_count": 0,
   "metadata": {
    "application/vnd.databricks.v1+cell": {
     "cellMetadata": {},
     "inputWidgets": {},
     "nuid": "2622b456-d8cb-420f-94f7-b470a59db2a9",
     "showTitle": false,
     "title": ""
    }
   },
   "outputs": [],
   "source": []
  },
  {
   "cell_type": "code",
   "execution_count": 0,
   "metadata": {
    "application/vnd.databricks.v1+cell": {
     "cellMetadata": {},
     "inputWidgets": {},
     "nuid": "d5136bae-4424-4b5e-9e5e-9ab808e516fc",
     "showTitle": false,
     "title": ""
    }
   },
   "outputs": [],
   "source": []
  },
  {
   "cell_type": "code",
   "execution_count": 0,
   "metadata": {
    "application/vnd.databricks.v1+cell": {
     "cellMetadata": {},
     "inputWidgets": {},
     "nuid": "b4c765f7-9144-4b9b-8e0d-606745ee770f",
     "showTitle": false,
     "title": ""
    }
   },
   "outputs": [],
   "source": []
  },
  {
   "cell_type": "code",
   "execution_count": 0,
   "metadata": {
    "application/vnd.databricks.v1+cell": {
     "cellMetadata": {},
     "inputWidgets": {},
     "nuid": "5c045ea5-550a-4cfc-8682-97deac6adf4c",
     "showTitle": false,
     "title": ""
    }
   },
   "outputs": [],
   "source": []
  },
  {
   "cell_type": "code",
   "execution_count": 0,
   "metadata": {
    "application/vnd.databricks.v1+cell": {
     "cellMetadata": {},
     "inputWidgets": {},
     "nuid": "592b5a43-a912-42f5-a04e-c7f8c537ae35",
     "showTitle": false,
     "title": ""
    }
   },
   "outputs": [],
   "source": []
  },
  {
   "cell_type": "code",
   "execution_count": 0,
   "metadata": {
    "application/vnd.databricks.v1+cell": {
     "cellMetadata": {},
     "inputWidgets": {},
     "nuid": "a0450afe-8ce9-4ecd-ab02-10c0c8aff14d",
     "showTitle": false,
     "title": ""
    }
   },
   "outputs": [],
   "source": []
  }
 ],
 "metadata": {
  "application/vnd.databricks.v1+notebook": {
   "dashboards": [],
   "language": "python",
   "notebookMetadata": {},
   "notebookName": "inventory management",
   "widgets": {}
  },
  "kernelspec": {
   "display_name": "Python 3 (ipykernel)",
   "language": "python",
   "name": "python3"
  },
  "language_info": {
   "codemirror_mode": {
    "name": "ipython",
    "version": 3
   },
   "file_extension": ".py",
   "mimetype": "text/x-python",
   "name": "python",
   "nbconvert_exporter": "python",
   "pygments_lexer": "ipython3",
   "version": "3.11.3"
  }
 },
 "nbformat": 4,
 "nbformat_minor": 0
}
